{
  "cells": [
    {
      "cell_type": "markdown",
      "source": [
        "Exponential and Weibull survival function, Hazard function, comparison of these functions, log rank test, Mantel-Haenszel test"
      ],
      "metadata": {
        "id": "HTVVzQZETZGh"
      }
    },
    {
      "cell_type": "markdown",
      "source": [
        "##a) Exponential and Weibull survival function"
      ],
      "metadata": {
        "id": "4fEUl-WbTqtv"
      }
    },
    {
      "cell_type": "markdown",
      "source": [
        "**For the \"stanford2\" data from the \"survival\" package, determine survival curves for exponential and Weibull distributions. Compare the obtained survival curves with the Kaplan Meier curve.**"
      ],
      "metadata": {
        "id": "QV4WKbDDTdVO"
      }
    },
    {
      "cell_type": "code",
      "source": [
        "library(survival)\n",
        "data(stanford2)\n",
        "attach(stanford2)\n",
        "head(stanford2)"
      ],
      "metadata": {
        "colab": {
          "base_uri": "https://localhost:8080/",
          "height": 321
        },
        "id": "hdtfyGnQTa7M",
        "outputId": "c9bc13ec-f171-47b9-b493-8e2439d58533"
      },
      "execution_count": 39,
      "outputs": [
        {
          "output_type": "stream",
          "name": "stderr",
          "text": [
            "Warning message in data(stanford2):\n",
            "“data set ‘stanford2’ not found”\n"
          ]
        },
        {
          "output_type": "display_data",
          "data": {
            "text/html": [
              "<table class=\"dataframe\">\n",
              "<caption>A data.frame: 6 × 5</caption>\n",
              "<thead>\n",
              "\t<tr><th></th><th scope=col>id</th><th scope=col>time</th><th scope=col>status</th><th scope=col>age</th><th scope=col>t5</th></tr>\n",
              "\t<tr><th></th><th scope=col>&lt;dbl&gt;</th><th scope=col>&lt;dbl&gt;</th><th scope=col>&lt;dbl&gt;</th><th scope=col>&lt;dbl&gt;</th><th scope=col>&lt;dbl&gt;</th></tr>\n",
              "</thead>\n",
              "<tbody>\n",
              "\t<tr><th scope=row>139</th><td>139</td><td>  86</td><td>1</td><td>12</td><td>1.26</td></tr>\n",
              "\t<tr><th scope=row>159</th><td>159</td><td>  10</td><td>1</td><td>13</td><td>1.49</td></tr>\n",
              "\t<tr><th scope=row>181</th><td>181</td><td>  60</td><td>0</td><td>13</td><td>  NA</td></tr>\n",
              "\t<tr><th scope=row>119</th><td>119</td><td>1116</td><td>0</td><td>14</td><td>0.54</td></tr>\n",
              "\t<tr><th scope=row>74</th><td> 74</td><td>2006</td><td>0</td><td>15</td><td>1.26</td></tr>\n",
              "\t<tr><th scope=row>120</th><td>120</td><td>1107</td><td>0</td><td>18</td><td>0.25</td></tr>\n",
              "</tbody>\n",
              "</table>\n"
            ],
            "text/markdown": "\nA data.frame: 6 × 5\n\n| <!--/--> | id &lt;dbl&gt; | time &lt;dbl&gt; | status &lt;dbl&gt; | age &lt;dbl&gt; | t5 &lt;dbl&gt; |\n|---|---|---|---|---|---|\n| 139 | 139 |   86 | 1 | 12 | 1.26 |\n| 159 | 159 |   10 | 1 | 13 | 1.49 |\n| 181 | 181 |   60 | 0 | 13 |   NA |\n| 119 | 119 | 1116 | 0 | 14 | 0.54 |\n| 74 |  74 | 2006 | 0 | 15 | 1.26 |\n| 120 | 120 | 1107 | 0 | 18 | 0.25 |\n\n",
            "text/latex": "A data.frame: 6 × 5\n\\begin{tabular}{r|lllll}\n  & id & time & status & age & t5\\\\\n  & <dbl> & <dbl> & <dbl> & <dbl> & <dbl>\\\\\n\\hline\n\t139 & 139 &   86 & 1 & 12 & 1.26\\\\\n\t159 & 159 &   10 & 1 & 13 & 1.49\\\\\n\t181 & 181 &   60 & 0 & 13 &   NA\\\\\n\t119 & 119 & 1116 & 0 & 14 & 0.54\\\\\n\t74 &  74 & 2006 & 0 & 15 & 1.26\\\\\n\t120 & 120 & 1107 & 0 & 18 & 0.25\\\\\n\\end{tabular}\n",
            "text/plain": [
              "    id  time status age t5  \n",
              "139 139   86 1      12  1.26\n",
              "159 159   10 1      13  1.49\n",
              "181 181   60 0      13    NA\n",
              "119 119 1116 0      14  0.54\n",
              "74   74 2006 0      15  1.26\n",
              "120 120 1107 0      18  0.25"
            ]
          },
          "metadata": {}
        }
      ]
    },
    {
      "cell_type": "code",
      "source": [
        "# Kaplan Meier curve\n",
        "km = survfit(Surv(time, status)~ 1)\n",
        "km\n"
      ],
      "metadata": {
        "colab": {
          "base_uri": "https://localhost:8080/",
          "height": 86
        },
        "id": "4I93V-lRTyHM",
        "outputId": "4e5176f9-56e3-499b-bd5a-76f7586565c4"
      },
      "execution_count": 42,
      "outputs": [
        {
          "output_type": "display_data",
          "data": {
            "text/plain": [
              "Call: survfit(formula = Surv(time, status) ~ 1)\n",
              "\n",
              "       n events median 0.95LCL 0.95UCL\n",
              "[1,] 184    113    631     328    1232"
            ]
          },
          "metadata": {}
        }
      ]
    },
    {
      "cell_type": "code",
      "source": [
        "summary(km)"
      ],
      "metadata": {
        "id": "uv1ICZz1UCuB"
      },
      "execution_count": null,
      "outputs": []
    },
    {
      "cell_type": "code",
      "source": [
        "plot(km, col = 'red')"
      ],
      "metadata": {
        "colab": {
          "base_uri": "https://localhost:8080/",
          "height": 437
        },
        "id": "Ctxi0nEpT2Wz",
        "outputId": "0d68ff91-6b44-41e8-9220-790253918835"
      },
      "execution_count": 41,
      "outputs": [
        {
          "output_type": "display_data",
          "data": {
            "text/plain": [
              "plot without title"
            ],
            "image/png": "[encoded data removed]"
          },
          "metadata": {
            "image/png": {
              "width": 420,
              "height": 420
            }
          }
        }
      ]
    },
    {
      "cell_type": "code",
      "source": [
        "# comparison of age groups survival curves (higher and lower that median), caplan meier function\n",
        "age2=rep(0, 184)\n",
        "age2[age<median(age)] = 1\n",
        "survfit(Surv(time,  status) ~ age2)\n",
        "plot(survfit(Surv(time,  status) ~ age2), col = c('blue', 'red'), lwd =2)\n",
        "grid()"
      ],
      "metadata": {
        "colab": {
          "base_uri": "https://localhost:8080/",
          "height": 524
        },
        "id": "2Aeu4vn5T9ne",
        "outputId": "3711f9a7-5d5b-4ed2-eede-10990939cd09"
      },
      "execution_count": 46,
      "outputs": [
        {
          "output_type": "display_data",
          "data": {
            "text/plain": [
              "Call: survfit(formula = Surv(time, status) ~ age2)\n",
              "\n",
              "        n events median 0.95LCL 0.95UCL\n",
              "age2=0 93     68    381     146     730\n",
              "age2=1 91     45   1247     731    2723"
            ]
          },
          "metadata": {}
        },
        {
          "output_type": "display_data",
          "data": {
            "text/plain": [
              "plot without title"
            ],
            "image/png": "[encoded data removed]"
          },
          "metadata": {
            "image/png": {
              "width": 420,
              "height": 420
            }
          }
        }
      ]
    },
    {
      "cell_type": "code",
      "source": [
        "# check if there is a significant difference between the two curves (\n",
        "survdiff(Surv(time, status)~ age2)"
      ],
      "metadata": {
        "colab": {
          "base_uri": "https://localhost:8080/",
          "height": 156
        },
        "id": "m6jIu-3eUhhf",
        "outputId": "2669d912-f817-48bd-8e5c-1c12f366ef00"
      },
      "execution_count": 47,
      "outputs": [
        {
          "output_type": "display_data",
          "data": {
            "text/plain": [
              "Call:\n",
              "survdiff(formula = Surv(time, status) ~ age2)\n",
              "\n",
              "        N Observed Expected (O-E)^2/E (O-E)^2/V\n",
              "age2=0 93       68     55.5      2.82      5.57\n",
              "age2=1 91       45     57.5      2.72      5.57\n",
              "\n",
              " Chisq= 5.6  on 1 degrees of freedom, p= 0.02 "
            ]
          },
          "metadata": {}
        }
      ]
    },
    {
      "cell_type": "markdown",
      "source": [
        "P-value lower than 0.05, there is significant diffrence between this  groups. There is a diffrence in survival time."
      ],
      "metadata": {
        "id": "e9Pi1RReVwdx"
      }
    },
    {
      "cell_type": "markdown",
      "source": [
        "**Exponential survival function**"
      ],
      "metadata": {
        "id": "b92K9yCNWrBY"
      }
    },
    {
      "cell_type": "code",
      "source": [
        "wyk = survreg(Surv(time, status)~ 1, data = stanford2, dist = 'exp')\n",
        "wyk"
      ],
      "metadata": {
        "colab": {
          "base_uri": "https://localhost:8080/",
          "height": 208
        },
        "id": "lZhFkQu1VvAa",
        "outputId": "ab65cef8-d700-4bee-9c8f-29aee210281b"
      },
      "execution_count": 51,
      "outputs": [
        {
          "output_type": "display_data",
          "data": {
            "text/plain": [
              "Call:\n",
              "survreg(formula = Surv(time, status) ~ 1, data = stanford2, dist = \"exp\")\n",
              "\n",
              "Coefficients:\n",
              "(Intercept) \n",
              "   7.034251 \n",
              "\n",
              "Scale fixed at 1 \n",
              "\n",
              "Loglik(model)= -907.9   Loglik(intercept only)= -907.9\n",
              "n= 184 "
            ]
          },
          "metadata": {}
        }
      ]
    },
    {
      "cell_type": "markdown",
      "source": [
        " The survival regression model with a constant term (intercept) is fitted to the data. The estimated coefficient for the intercept is 7.034251. The model assumes an exponential distribution for the survival times. The log-likelihood indicates the fit of the model to the data, and in this case, the model does not provide a significantly better fit than the intercept-only model. The sample size is 184, representing the number of individuals included in the analysis."
      ],
      "metadata": {
        "id": "PqQN3gVbWfTV"
      }
    },
    {
      "cell_type": "code",
      "source": [
        "# lambda exponential\n",
        "lambda_wyk = exp(-wyk$coef)\n",
        "lambda_wyk"
      ],
      "metadata": {
        "colab": {
          "base_uri": "https://localhost:8080/",
          "height": 34
        },
        "id": "CJRcMGN9WRWT",
        "outputId": "477847b0-fb87-4997-bfa8-74cd5d7bfe2f"
      },
      "execution_count": 49,
      "outputs": [
        {
          "output_type": "display_data",
          "data": {
            "text/html": [
              "<strong>(Intercept):</strong> 0.000881177502703624"
            ],
            "text/markdown": "**(Intercept):** 0.000881177502703624",
            "text/latex": "\\textbf{(Intercept):} 0.000881177502703624",
            "text/plain": [
              " (Intercept) \n",
              "0.0008811775 "
            ]
          },
          "metadata": {}
        }
      ]
    },
    {
      "cell_type": "markdown",
      "source": [
        "**Weibull survival function**"
      ],
      "metadata": {
        "id": "o1TcvO4KWyr2"
      }
    },
    {
      "cell_type": "code",
      "source": [
        "wei = survreg(Surv(time, status)~1, data = stanford2, dist = 'weibull')\n",
        "wei"
      ],
      "metadata": {
        "colab": {
          "base_uri": "https://localhost:8080/",
          "height": 208
        },
        "id": "0sgJRNnhWX1J",
        "outputId": "a5c0bebd-8779-4a0c-c3b5-163638e0a64a"
      },
      "execution_count": 52,
      "outputs": [
        {
          "output_type": "display_data",
          "data": {
            "text/plain": [
              "Call:\n",
              "survreg(formula = Surv(time, status) ~ 1, data = stanford2, dist = \"weibull\")\n",
              "\n",
              "Coefficients:\n",
              "(Intercept) \n",
              "   7.092712 \n",
              "\n",
              "Scale= 1.804064 \n",
              "\n",
              "Loglik(model)= -871.8   Loglik(intercept only)= -871.8\n",
              "n= 184 "
            ]
          },
          "metadata": {}
        }
      ]
    },
    {
      "cell_type": "markdown",
      "source": [
        "The survival regression model with a constant term (intercept) is fitted to the data. The estimated coefficient for the intercept is 7.092712. The model assumes a Weibull distribution for the survival times, with a scale parameter estimated to be 1.804064. The log-likelihood indicates the fit of the model to the data, and in this case, the model does not provide a significantly better fit than the intercept-only model. The sample size is 184, representing the number of individuals included in the analysis."
      ],
      "metadata": {
        "id": "Gvkf14XbXGnK"
      }
    },
    {
      "cell_type": "code",
      "source": [
        "# lambda weibull\n",
        "lambda_wei = exp(-wei$icoef[1])\n",
        "lambda_wei"
      ],
      "metadata": {
        "colab": {
          "base_uri": "https://localhost:8080/",
          "height": 34
        },
        "id": "eW_Tcrw5Wm-O",
        "outputId": "60df6ae0-cd4d-49f0-f1b6-4b42e33f966a"
      },
      "execution_count": 53,
      "outputs": [
        {
          "output_type": "display_data",
          "data": {
            "text/html": [
              "<strong>(Intercept):</strong> 0.000831140500252774"
            ],
            "text/markdown": "**(Intercept):** 0.000831140500252774",
            "text/latex": "\\textbf{(Intercept):} 0.000831140500252774",
            "text/plain": [
              " (Intercept) \n",
              "0.0008311405 "
            ]
          },
          "metadata": {}
        }
      ]
    },
    {
      "cell_type": "code",
      "source": [
        "# kappa\n",
        "kappa = 1/(exp(wei$icoef[2]))\n",
        "kappa"
      ],
      "metadata": {
        "colab": {
          "base_uri": "https://localhost:8080/",
          "height": 34
        },
        "id": "o_tDwGQxXJAe",
        "outputId": "363ccfcb-7c99-4b0b-df44-d601f1d292bb"
      },
      "execution_count": 54,
      "outputs": [
        {
          "output_type": "display_data",
          "data": {
            "text/html": [
              "<strong>Log(scale):</strong> 0.554304108046476"
            ],
            "text/markdown": "**Log(scale):** 0.554304108046476",
            "text/latex": "\\textbf{Log(scale):} 0.554304108046476",
            "text/plain": [
              "Log(scale) \n",
              " 0.5543041 "
            ]
          },
          "metadata": {}
        }
      ]
    },
    {
      "cell_type": "code",
      "source": [
        "# red exponential\n",
        "# blue weibull\n",
        "# black Kaplana Meiera\n",
        "plot(km, col = \"blue\", lwd = 2, conf.int = FALSE)\n",
        "x=seq(0,max(time),length=10000)\n",
        "y_wei=exp(-(lambda_wyk*x)^kappa)\n",
        "y_wyk=exp( - lambda_wyk * x)\n",
        "lines(x, y_wyk, lwd = 2, col = \"red\")\n",
        "lines(x, y_wei, lwd = 2, col = \"darkgreen\")\n",
        "legend(\"topright\", c(\"K-M\",\"exp\", \"Weibull\"), col=c(\"blue\",\"red\",\"darkgreen\"), lwd = 2)"
      ],
      "metadata": {
        "colab": {
          "base_uri": "https://localhost:8080/",
          "height": 437
        },
        "id": "i1_5mlZmXKFP",
        "outputId": "1454d28b-fe79-4b79-bcfe-ae126500aebe"
      },
      "execution_count": 55,
      "outputs": [
        {
          "output_type": "display_data",
          "data": {
            "text/plain": [
              "plot without title"
            ],
            "image/png": "[encoded data removed]"
          },
          "metadata": {
            "image/png": {
              "width": 420,
              "height": 420
            }
          }
        }
      ]
    },
    {
      "cell_type": "markdown",
      "source": [
        "## b) Hazard functions"
      ],
      "metadata": {
        "id": "9ZM3jpTcXqP5"
      }
    },
    {
      "cell_type": "markdown",
      "source": [
        "For the above survival functions, determine the hazard functions and determine their 95% intervals\n",
        "confidence intervals."
      ],
      "metadata": {
        "id": "YNoaTI9JXr8k"
      }
    },
    {
      "cell_type": "code",
      "source": [
        "# exponential hazard function (lambda)\n",
        "\n",
        "lambda_wyk = exp(-wyk$coef)\n",
        "lambda_wyk"
      ],
      "metadata": {
        "colab": {
          "base_uri": "https://localhost:8080/",
          "height": 34
        },
        "id": "RmKHRLPbXQcS",
        "outputId": "8bca1b5b-98cc-442c-b7dd-3f62bf30ecfe"
      },
      "execution_count": 56,
      "outputs": [
        {
          "output_type": "display_data",
          "data": {
            "text/html": [
              "<strong>(Intercept):</strong> 0.000881177502703624"
            ],
            "text/markdown": "**(Intercept):** 0.000881177502703624",
            "text/latex": "\\textbf{(Intercept):} 0.000881177502703624",
            "text/plain": [
              " (Intercept) \n",
              "0.0008811775 "
            ]
          },
          "metadata": {}
        }
      ]
    },
    {
      "cell_type": "code",
      "source": [
        "# sum of event\n",
        "sd=sum(stanford2$status)\n",
        "d\n",
        "# (n_d = length(which(stanford2$status == 1)))"
      ],
      "metadata": {
        "colab": {
          "base_uri": "https://localhost:8080/",
          "height": 34
        },
        "id": "fYg0iQWzYBWK",
        "outputId": "26c0195d-1b81-4441-d96c-646086bcc72d"
      },
      "execution_count": 58,
      "outputs": [
        {
          "output_type": "display_data",
          "data": {
            "text/html": [
              "113"
            ],
            "text/markdown": "113",
            "text/latex": "113",
            "text/plain": [
              "[1] 113"
            ]
          },
          "metadata": {}
        }
      ]
    },
    {
      "cell_type": "code",
      "source": [
        "# standard error for exponential distribution\n",
        "SE_wyk=sqrt(lambda_wyk/(d-1))\n",
        "SE_wyk"
      ],
      "metadata": {
        "colab": {
          "base_uri": "https://localhost:8080/",
          "height": 34
        },
        "id": "dvQnK6ACYMhs",
        "outputId": "9d3527f1-0b57-4a06-a176-df5f92366e37"
      },
      "execution_count": 59,
      "outputs": [
        {
          "output_type": "display_data",
          "data": {
            "text/html": [
              "<strong>(Intercept):</strong> 0.00280493427269508"
            ],
            "text/markdown": "**(Intercept):** 0.00280493427269508",
            "text/latex": "\\textbf{(Intercept):} 0.00280493427269508",
            "text/plain": [
              "(Intercept) \n",
              "0.002804934 "
            ]
          },
          "metadata": {}
        }
      ]
    },
    {
      "cell_type": "code",
      "source": [
        "# Confidence intervals for the exponential distribution hazards function\n",
        "L_wyk = lambda_wyk-1.96*SE_wyk\n",
        "L_wyk[L_wyk < 0] = 0\n",
        "L_wyk\n",
        "(U_wyk = round(lambda_wyk+1.96*SE_wyk, digits = 3))"
      ],
      "metadata": {
        "colab": {
          "base_uri": "https://localhost:8080/",
          "height": 52
        },
        "id": "Eb5DGP0nYWyM",
        "outputId": "47fe4a67-88a0-487d-903d-a25fb8bd70f6"
      },
      "execution_count": 60,
      "outputs": [
        {
          "output_type": "display_data",
          "data": {
            "text/html": [
              "<strong>(Intercept):</strong> 0"
            ],
            "text/markdown": "**(Intercept):** 0",
            "text/latex": "\\textbf{(Intercept):} 0",
            "text/plain": [
              "(Intercept) \n",
              "          0 "
            ]
          },
          "metadata": {}
        },
        {
          "output_type": "display_data",
          "data": {
            "text/html": [
              "<strong>(Intercept):</strong> 0.006"
            ],
            "text/markdown": "**(Intercept):** 0.006",
            "text/latex": "\\textbf{(Intercept):} 0.006",
            "text/plain": [
              "(Intercept) \n",
              "      0.006 "
            ]
          },
          "metadata": {}
        }
      ]
    },
    {
      "cell_type": "code",
      "source": [
        "# weibull hazard function (lambda)\n",
        "\n",
        "lambda_wei = exp(-wei$icoef[1])\n",
        "lambda_wei"
      ],
      "metadata": {
        "colab": {
          "base_uri": "https://localhost:8080/",
          "height": 34
        },
        "id": "Y4I2Up9gYjKI",
        "outputId": "0a1622dc-018c-48a0-fc3a-77df5a70d2fa"
      },
      "execution_count": 61,
      "outputs": [
        {
          "output_type": "display_data",
          "data": {
            "text/html": [
              "<strong>(Intercept):</strong> 0.000831140500252774"
            ],
            "text/markdown": "**(Intercept):** 0.000831140500252774",
            "text/latex": "\\textbf{(Intercept):} 0.000831140500252774",
            "text/plain": [
              " (Intercept) \n",
              "0.0008311405 "
            ]
          },
          "metadata": {}
        }
      ]
    },
    {
      "cell_type": "code",
      "source": [
        "# standard error for the weibull distribution\n",
        "SE_wei=sqrt(lambda_wei/(d-1))\n",
        "SE_wei"
      ],
      "metadata": {
        "colab": {
          "base_uri": "https://localhost:8080/",
          "height": 34
        },
        "id": "3hOE9hmuYxSb",
        "outputId": "1af45ce6-023a-4db7-9b0f-567cffcd0535"
      },
      "execution_count": 62,
      "outputs": [
        {
          "output_type": "display_data",
          "data": {
            "text/html": [
              "<strong>(Intercept):</strong> 0.00272413239833997"
            ],
            "text/markdown": "**(Intercept):** 0.00272413239833997",
            "text/latex": "\\textbf{(Intercept):} 0.00272413239833997",
            "text/plain": [
              "(Intercept) \n",
              "0.002724132 "
            ]
          },
          "metadata": {}
        }
      ]
    },
    {
      "cell_type": "markdown",
      "source": [
        "## c) Median and confidence interval"
      ],
      "metadata": {
        "id": "9OPayGuxY8MW"
      }
    },
    {
      "cell_type": "markdown",
      "source": [
        "**For the above data, determine the median survival and its 95% confidence interval. What\n",
        "would the median survival be for a curve based on an exponential distribution, and what for a survival curve based on a Weibull distribution?\n",
        "survival based on a Weibull distribution?**"
      ],
      "metadata": {
        "id": "c3GbQKJTZF2N"
      }
    },
    {
      "cell_type": "code",
      "source": [
        "# median and confidence interval\n",
        "\n",
        "survfit(Surv(time,status)~1)"
      ],
      "metadata": {
        "colab": {
          "base_uri": "https://localhost:8080/",
          "height": 86
        },
        "id": "JQBTraM7Y1aI",
        "outputId": "2d8e4c55-2d56-4048-821a-eb388ef59eea"
      },
      "execution_count": 63,
      "outputs": [
        {
          "output_type": "display_data",
          "data": {
            "text/plain": [
              "Call: survfit(formula = Surv(time, status) ~ 1)\n",
              "\n",
              "       n events median 0.95LCL 0.95UCL\n",
              "[1,] 184    113    631     328    1232"
            ]
          },
          "metadata": {}
        }
      ]
    },
    {
      "cell_type": "code",
      "source": [
        "# Median exponential disribution\n",
        "\n",
        "(k = which.min(abs(y_wyk-0.5)))\n",
        "round(x[k], digits = 0)"
      ],
      "metadata": {
        "colab": {
          "base_uri": "https://localhost:8080/",
          "height": 52
        },
        "id": "mrTD3t2UZOtJ",
        "outputId": "83e28fd3-ad2b-44ce-a252-f0860ce77844"
      },
      "execution_count": 64,
      "outputs": [
        {
          "output_type": "display_data",
          "data": {
            "text/html": [
              "2130"
            ],
            "text/markdown": "2130",
            "text/latex": "2130",
            "text/plain": [
              "[1] 2130"
            ]
          },
          "metadata": {}
        },
        {
          "output_type": "display_data",
          "data": {
            "text/html": [
              "787"
            ],
            "text/markdown": "787",
            "text/latex": "787",
            "text/plain": [
              "[1] 787"
            ]
          },
          "metadata": {}
        }
      ]
    },
    {
      "cell_type": "code",
      "source": [
        "# Median weibull distribution\n",
        "(k = which.min(abs(y_wei-0.5)))\n",
        "round(x[k], digits = 0)"
      ],
      "metadata": {
        "colab": {
          "base_uri": "https://localhost:8080/",
          "height": 52
        },
        "id": "ApQimDg5ZVKE",
        "outputId": "ed2f082f-83cc-4580-8663-c79cbbb8214a"
      },
      "execution_count": 65,
      "outputs": [
        {
          "output_type": "display_data",
          "data": {
            "text/html": [
              "1586"
            ],
            "text/markdown": "1586",
            "text/latex": "1586",
            "text/plain": [
              "[1] 1586"
            ]
          },
          "metadata": {}
        },
        {
          "output_type": "display_data",
          "data": {
            "text/html": [
              "586"
            ],
            "text/markdown": "586",
            "text/latex": "586",
            "text/plain": [
              "[1] 586"
            ]
          },
          "metadata": {}
        }
      ]
    },
    {
      "cell_type": "markdown",
      "source": [
        "## d) Log Rank test"
      ],
      "metadata": {
        "id": "sVXA3L-XZfjs"
      }
    },
    {
      "cell_type": "markdown",
      "source": [
        "**For the variable age, designate two groups: (i) under 45; (ii) over 45. Then, using\n",
        "using the log-rank test, check whether there are significant differences between the survival curves\n",
        "for these groups.**"
      ],
      "metadata": {
        "id": "onOlUSYfZjLM"
      }
    },
    {
      "cell_type": "code",
      "source": [
        "# Dividing the age variable into a group younger than 45 years and older/equivalent 45 years\n",
        "stanford2$age3[stanford2$age < 45]= 1\n",
        "stanford2$age3[stanford2$age >= 45]= 2\n",
        "head(stanford2)"
      ],
      "metadata": {
        "colab": {
          "base_uri": "https://localhost:8080/",
          "height": 286
        },
        "id": "4Zm5tfIBZZOO",
        "outputId": "95a22dc1-8307-4534-bce7-163c6672f060"
      },
      "execution_count": 66,
      "outputs": [
        {
          "output_type": "display_data",
          "data": {
            "text/html": [
              "<table class=\"dataframe\">\n",
              "<caption>A data.frame: 6 × 6</caption>\n",
              "<thead>\n",
              "\t<tr><th></th><th scope=col>id</th><th scope=col>time</th><th scope=col>status</th><th scope=col>age</th><th scope=col>t5</th><th scope=col>age3</th></tr>\n",
              "\t<tr><th></th><th scope=col>&lt;dbl&gt;</th><th scope=col>&lt;dbl&gt;</th><th scope=col>&lt;dbl&gt;</th><th scope=col>&lt;dbl&gt;</th><th scope=col>&lt;dbl&gt;</th><th scope=col>&lt;dbl&gt;</th></tr>\n",
              "</thead>\n",
              "<tbody>\n",
              "\t<tr><th scope=row>139</th><td>139</td><td>  86</td><td>1</td><td>12</td><td>1.26</td><td>1</td></tr>\n",
              "\t<tr><th scope=row>159</th><td>159</td><td>  10</td><td>1</td><td>13</td><td>1.49</td><td>1</td></tr>\n",
              "\t<tr><th scope=row>181</th><td>181</td><td>  60</td><td>0</td><td>13</td><td>  NA</td><td>1</td></tr>\n",
              "\t<tr><th scope=row>119</th><td>119</td><td>1116</td><td>0</td><td>14</td><td>0.54</td><td>1</td></tr>\n",
              "\t<tr><th scope=row>74</th><td> 74</td><td>2006</td><td>0</td><td>15</td><td>1.26</td><td>1</td></tr>\n",
              "\t<tr><th scope=row>120</th><td>120</td><td>1107</td><td>0</td><td>18</td><td>0.25</td><td>1</td></tr>\n",
              "</tbody>\n",
              "</table>\n"
            ],
            "text/markdown": "\nA data.frame: 6 × 6\n\n| <!--/--> | id &lt;dbl&gt; | time &lt;dbl&gt; | status &lt;dbl&gt; | age &lt;dbl&gt; | t5 &lt;dbl&gt; | age3 &lt;dbl&gt; |\n|---|---|---|---|---|---|---|\n| 139 | 139 |   86 | 1 | 12 | 1.26 | 1 |\n| 159 | 159 |   10 | 1 | 13 | 1.49 | 1 |\n| 181 | 181 |   60 | 0 | 13 |   NA | 1 |\n| 119 | 119 | 1116 | 0 | 14 | 0.54 | 1 |\n| 74 |  74 | 2006 | 0 | 15 | 1.26 | 1 |\n| 120 | 120 | 1107 | 0 | 18 | 0.25 | 1 |\n\n",
            "text/latex": "A data.frame: 6 × 6\n\\begin{tabular}{r|llllll}\n  & id & time & status & age & t5 & age3\\\\\n  & <dbl> & <dbl> & <dbl> & <dbl> & <dbl> & <dbl>\\\\\n\\hline\n\t139 & 139 &   86 & 1 & 12 & 1.26 & 1\\\\\n\t159 & 159 &   10 & 1 & 13 & 1.49 & 1\\\\\n\t181 & 181 &   60 & 0 & 13 &   NA & 1\\\\\n\t119 & 119 & 1116 & 0 & 14 & 0.54 & 1\\\\\n\t74 &  74 & 2006 & 0 & 15 & 1.26 & 1\\\\\n\t120 & 120 & 1107 & 0 & 18 & 0.25 & 1\\\\\n\\end{tabular}\n",
            "text/plain": [
              "    id  time status age t5   age3\n",
              "139 139   86 1      12  1.26 1   \n",
              "159 159   10 1      13  1.49 1   \n",
              "181 181   60 0      13    NA 1   \n",
              "119 119 1116 0      14  0.54 1   \n",
              "74   74 2006 0      15  1.26 1   \n",
              "120 120 1107 0      18  0.25 1   "
            ]
          },
          "metadata": {}
        }
      ]
    },
    {
      "cell_type": "code",
      "source": [
        "# the number of individual groups\n",
        "table(stanford2$age3)"
      ],
      "metadata": {
        "colab": {
          "base_uri": "https://localhost:8080/",
          "height": 69
        },
        "id": "fBTbQJoLZ49a",
        "outputId": "a2afce8e-46ea-4db2-db56-fa00c47f4157"
      },
      "execution_count": 67,
      "outputs": [
        {
          "output_type": "display_data",
          "data": {
            "text/plain": [
              "\n",
              " 1  2 \n",
              "94 90 "
            ]
          },
          "metadata": {}
        }
      ]
    },
    {
      "cell_type": "code",
      "source": [
        "# survival curves for people divided by age3\n",
        "km2 = survfit(Surv(time, status) ~ age3, data = stanford2)\n",
        "km2"
      ],
      "metadata": {
        "colab": {
          "base_uri": "https://localhost:8080/",
          "height": 104
        },
        "id": "_ZBvEDWTZ-Fn",
        "outputId": "a61d6c59-b273-450a-d063-5e203e1fab80"
      },
      "execution_count": 68,
      "outputs": [
        {
          "output_type": "display_data",
          "data": {
            "text/plain": [
              "Call: survfit(formula = Surv(time, status) ~ age3, data = stanford2)\n",
              "\n",
              "        n events median 0.95LCL 0.95UCL\n",
              "age3=1 94     47   1247     836    2127\n",
              "age3=2 90     66    279     145     729"
            ]
          },
          "metadata": {}
        }
      ]
    },
    {
      "cell_type": "code",
      "source": [
        "# Significance testing with the logrank test\n",
        "\n",
        "survdiff(Surv(time, status) ~ age3, data = stanford2)"
      ],
      "metadata": {
        "colab": {
          "base_uri": "https://localhost:8080/",
          "height": 156
        },
        "id": "lmUJc-fmaCG-",
        "outputId": "b4deda8c-0f97-441f-bf4d-436d710dda82"
      },
      "execution_count": 69,
      "outputs": [
        {
          "output_type": "display_data",
          "data": {
            "text/plain": [
              "Call:\n",
              "survdiff(formula = Surv(time, status) ~ age3, data = stanford2)\n",
              "\n",
              "        N Observed Expected (O-E)^2/E (O-E)^2/V\n",
              "age3=1 94       47     60.6      3.03      6.58\n",
              "age3=2 90       66     52.4      3.50      6.58\n",
              "\n",
              " Chisq= 6.6  on 1 degrees of freedom, p= 0.01 "
            ]
          },
          "metadata": {}
        }
      ]
    },
    {
      "cell_type": "markdown",
      "source": [
        "P-value lower than 0.05. There is significant diffrence. Age group is significant for survival time."
      ],
      "metadata": {
        "id": "JBnm-cnyaHmi"
      }
    },
    {
      "cell_type": "code",
      "source": [
        "pchisq(3.03+3.50, df = 1, lower.tail = FALSE)"
      ],
      "metadata": {
        "colab": {
          "base_uri": "https://localhost:8080/",
          "height": 34
        },
        "id": "SPL2IK3aaGxh",
        "outputId": "f4837c47-59e2-410e-8ebe-e1b11f29e40a"
      },
      "execution_count": 70,
      "outputs": [
        {
          "output_type": "display_data",
          "data": {
            "text/html": [
              "0.0106069956985735"
            ],
            "text/markdown": "0.0106069956985735",
            "text/latex": "0.0106069956985735",
            "text/plain": [
              "[1] 0.010607"
            ]
          },
          "metadata": {}
        }
      ]
    },
    {
      "cell_type": "markdown",
      "source": [
        "## e) Median survival\n"
      ],
      "metadata": {
        "id": "-wLhs2u8aj7_"
      }
    },
    {
      "cell_type": "markdown",
      "source": [
        "**For the experiment from previos task, determine: (i) the hazard function ± 95% confidence intervals; (ii) the median survival for each group and the hazard function for the ratio of median survival between the two groups ± 95% confidence intervals.**"
      ],
      "metadata": {
        "id": "0_5HEeWJamdo"
      }
    },
    {
      "cell_type": "code",
      "source": [
        "# From this model we select the expected and observed values\n",
        "survdiff(Surv(time, status) ~ age3, data = stanford2)"
      ],
      "metadata": {
        "colab": {
          "base_uri": "https://localhost:8080/",
          "height": 156
        },
        "id": "hrAnc0IOagMk",
        "outputId": "bd22b0f9-1de8-4bd1-8c9d-935c0d6c64c2"
      },
      "execution_count": 71,
      "outputs": [
        {
          "output_type": "display_data",
          "data": {
            "text/plain": [
              "Call:\n",
              "survdiff(formula = Surv(time, status) ~ age3, data = stanford2)\n",
              "\n",
              "        N Observed Expected (O-E)^2/E (O-E)^2/V\n",
              "age3=1 94       47     60.6      3.03      6.58\n",
              "age3=2 90       66     52.4      3.50      6.58\n",
              "\n",
              " Chisq= 6.6  on 1 degrees of freedom, p= 0.01 "
            ]
          },
          "metadata": {}
        }
      ]
    },
    {
      "cell_type": "code",
      "source": [
        "# (age2=1 observed /age2=1 expected) / (age2=2 observed /age2=2 expected)\n",
        "HR4 <- (47/60.6)/(66/52.4)\n",
        "HR4"
      ],
      "metadata": {
        "colab": {
          "base_uri": "https://localhost:8080/",
          "height": 34
        },
        "id": "4fvCFm3caxUD",
        "outputId": "841a7206-d037-4d80-b938-2f254b92abb5"
      },
      "execution_count": 72,
      "outputs": [
        {
          "output_type": "display_data",
          "data": {
            "text/html": [
              "0.615761576157616"
            ],
            "text/markdown": "0.615761576157616",
            "text/latex": "0.615761576157616",
            "text/plain": [
              "[1] 0.6157616"
            ]
          },
          "metadata": {}
        }
      ]
    },
    {
      "cell_type": "markdown",
      "source": [
        "We calculate the standard error from the formula, where Ea is the sum of expected events in group 1 and Eb in group 2"
      ],
      "metadata": {
        "id": "SZwN0XtCa6xk"
      }
    },
    {
      "cell_type": "code",
      "source": [
        "SE_logHR <-  sqrt(1/60.6 + 1/52.4)"
      ],
      "metadata": {
        "id": "os_nJN8Ia1vI"
      },
      "execution_count": 73,
      "outputs": []
    },
    {
      "cell_type": "code",
      "source": [
        "# Confidence interval\n",
        "L_HR <-  exp(log(HR)-1.96*SE_logHR)\n",
        "U_HR <-  exp(log(HR)+1.96*SE_logHR)\n",
        "L_HR\n",
        "U_HR"
      ],
      "metadata": {
        "colab": {
          "base_uri": "https://localhost:8080/",
          "height": 52
        },
        "id": "RONA8lUta8vl",
        "outputId": "e0a33d13-f604-4dd1-94b2-85c71de127f6"
      },
      "execution_count": 75,
      "outputs": [
        {
          "output_type": "display_data",
          "data": {
            "text/html": [
              "1.00676297622744"
            ],
            "text/markdown": "1.00676297622744",
            "text/latex": "1.00676297622744",
            "text/plain": [
              "[1] 1.006763"
            ]
          },
          "metadata": {}
        },
        {
          "output_type": "display_data",
          "data": {
            "text/html": [
              "2.10900217455233"
            ],
            "text/markdown": "2.10900217455233",
            "text/latex": "2.10900217455233",
            "text/plain": [
              "[1] 2.109002"
            ]
          },
          "metadata": {}
        }
      ]
    },
    {
      "cell_type": "code",
      "source": [
        "# Median quotient\n",
        "survfit(Surv(time, status) ~ age3, data = stanford2)"
      ],
      "metadata": {
        "colab": {
          "base_uri": "https://localhost:8080/",
          "height": 104
        },
        "id": "Utnilkpga98R",
        "outputId": "03cac857-8399-499a-a78b-81b7fba25349"
      },
      "execution_count": 76,
      "outputs": [
        {
          "output_type": "display_data",
          "data": {
            "text/plain": [
              "Call: survfit(formula = Surv(time, status) ~ age3, data = stanford2)\n",
              "\n",
              "        n events median 0.95LCL 0.95UCL\n",
              "age3=1 94     47   1247     836    2127\n",
              "age3=2 90     66    279     145     729"
            ]
          },
          "metadata": {}
        }
      ]
    },
    {
      "cell_type": "code",
      "source": [
        "# Median quotient\n",
        "HR_median = 1247/279\n",
        "HR_median"
      ],
      "metadata": {
        "colab": {
          "base_uri": "https://localhost:8080/",
          "height": 34
        },
        "id": "Ojjv4_zKbDop",
        "outputId": "570a75cd-b86a-42b6-f056-cbcc120a2950"
      },
      "execution_count": 77,
      "outputs": [
        {
          "output_type": "display_data",
          "data": {
            "text/html": [
              "4.46953405017921"
            ],
            "text/markdown": "4.46953405017921",
            "text/latex": "4.46953405017921",
            "text/plain": [
              "[1] 4.469534"
            ]
          },
          "metadata": {}
        }
      ]
    },
    {
      "cell_type": "code",
      "source": [
        "# błąd standardowy ilorazu median\n",
        "SE_logHR_median = sqrt(1/47 + 1/66)\n",
        "# confidence intervals for the median quotient\n",
        "(L_HR_median <-  exp(log(HR_median)-1.96*SE_logHR_median))\n",
        "(U_HR_median <-  exp(log(HR_median)+1.96*SE_logHR_median))"
      ],
      "metadata": {
        "colab": {
          "base_uri": "https://localhost:8080/",
          "height": 52
        },
        "id": "KUvu7Go5bH3T",
        "outputId": "f187556e-cd29-4cf3-8009-926443dc52c9"
      },
      "execution_count": 78,
      "outputs": [
        {
          "output_type": "display_data",
          "data": {
            "text/html": [
              "3.07466401065825"
            ],
            "text/markdown": "3.07466401065825",
            "text/latex": "3.07466401065825",
            "text/plain": [
              "[1] 3.074664"
            ]
          },
          "metadata": {}
        },
        {
          "output_type": "display_data",
          "data": {
            "text/html": [
              "6.49720898168466"
            ],
            "text/markdown": "6.49720898168466",
            "text/latex": "6.49720898168466",
            "text/plain": [
              "[1] 6.497209"
            ]
          },
          "metadata": {}
        }
      ]
    },
    {
      "cell_type": "code",
      "source": [],
      "metadata": {
        "id": "VHEZ-dLRbPag"
      },
      "execution_count": null,
      "outputs": []
    }
  ],
  "metadata": {
    "colab": {
      "provenance": [],
      "toc_visible": true
    },
    "kernelspec": {
      "display_name": "R",
      "name": "ir"
    },
    "language_info": {
      "name": "R"
    }
  },
  "nbformat": 4,
  "nbformat_minor": 0
}